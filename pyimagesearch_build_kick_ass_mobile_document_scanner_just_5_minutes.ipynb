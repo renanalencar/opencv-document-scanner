{
  "cells": [
    {
      "cell_type": "markdown",
      "metadata": {
        "id": "pUe2WE9fry5E"
      },
      "source": [
        "# How to Build a Kick-Ass Mobile Document Scanner in Just 5 Minutes\n",
        "\n",
        "Source: [pyimagesearch](https://pyimagesearch.com/2014/09/01/build-kick-ass-mobile-document-scanner-just-5-minutes/)"
      ]
    },
    {
      "cell_type": "code",
      "execution_count": 9,
      "metadata": {
        "colab": {
          "base_uri": "https://localhost:8080/",
          "height": 383
        },
        "id": "RJhmdnvIrGJd",
        "outputId": "d1199d6f-9b98-489a-db63-13b07d763c0a"
      },
      "outputs": [],
      "source": [
        "# import the necessary packages\n",
        "from pyimagesearch.transform import four_point_transform\n",
        "from skimage.filters import threshold_local\n",
        "import numpy as np\n",
        "import argparse\n",
        "import cv2\n",
        "import imutils\n"
      ]
    },
    {
      "cell_type": "code",
      "execution_count": null,
      "metadata": {
        "id": "uwxtePfWrQ0Z"
      },
      "outputs": [],
      "source": [
        "# construct the argument parser and parse the arguments\n",
        "ap = argparse.ArgumentParser()\n",
        "ap.add_argument(\"-i\", \"--image\", required = True,\n",
        "\thelp = \"Path to the image to be scanned\")\n",
        "args = vars(ap.parse_args())"
      ]
    },
    {
      "cell_type": "markdown",
      "metadata": {
        "id": "MxucyCFgrZQH"
      },
      "source": [
        "## Step 1: Edge Detection"
      ]
    },
    {
      "cell_type": "code",
      "execution_count": 10,
      "metadata": {
        "id": "fd6Pf3CfrUst"
      },
      "outputs": [
        {
          "name": "stdout",
          "output_type": "stream",
          "text": [
            "STEP 1: Edge Detection\n"
          ]
        }
      ],
      "source": [
        "# load the image and compute the ratio of the old height\n",
        "# to the new height, clone it, and resize it\n",
        "# image = cv2.imread(args[\"image\"])\n",
        "image = cv2.imread('img/a.jpg')\n",
        "ratio = image.shape[0] / 500.0\n",
        "orig = image.copy()\n",
        "image = imutils.resize(image, height = 500)\n",
        "# convert the image to grayscale, blur it, and find edges\n",
        "# in the image\n",
        "gray = cv2.cvtColor(image, cv2.COLOR_BGR2GRAY)\n",
        "gray = cv2.GaussianBlur(gray, (5, 5), 0)\n",
        "edged = cv2.Canny(gray, 75, 200)\n",
        "# show the original image and the edge detected image\n",
        "print(\"STEP 1: Edge Detection\")\n",
        "cv2.imshow(\"Image\", image)\n",
        "cv2.imshow(\"Edged\", edged)\n",
        "cv2.waitKey(0)\n",
        "cv2.destroyAllWindows()"
      ]
    },
    {
      "cell_type": "markdown",
      "metadata": {
        "id": "R5M3FoCKrePN"
      },
      "source": [
        "## Step 2: Finding Contours"
      ]
    },
    {
      "cell_type": "code",
      "execution_count": 11,
      "metadata": {
        "id": "RFr56wl9rfn6"
      },
      "outputs": [
        {
          "name": "stdout",
          "output_type": "stream",
          "text": [
            "STEP 2: Find contours of paper\n"
          ]
        }
      ],
      "source": [
        "# find the contours in the edged image, keeping only the\n",
        "# largest ones, and initialize the screen contour\n",
        "cnts = cv2.findContours(edged.copy(), cv2.RETR_LIST, cv2.CHAIN_APPROX_SIMPLE)\n",
        "cnts = imutils.grab_contours(cnts)\n",
        "cnts = sorted(cnts, key = cv2.contourArea, reverse = True)[:5]\n",
        "# loop over the contours\n",
        "for c in cnts:\n",
        "\t# approximate the contour\n",
        "\tperi = cv2.arcLength(c, True)\n",
        "\tapprox = cv2.approxPolyDP(c, 0.02 * peri, True)\n",
        "\t# if our approximated contour has four points, then we\n",
        "\t# can assume that we have found our screen\n",
        "\tif len(approx) == 4:\n",
        "\t\tscreenCnt = approx\n",
        "\t\tbreak\n",
        "# show the contour (outline) of the piece of paper\n",
        "print(\"STEP 2: Find contours of paper\")\n",
        "cv2.drawContours(image, [screenCnt], -1, (0, 255, 0), 2)\n",
        "cv2.imshow(\"Outline\", image)\n",
        "cv2.waitKey(0)\n",
        "cv2.destroyAllWindows()"
      ]
    },
    {
      "cell_type": "markdown",
      "metadata": {
        "id": "h9nDJwJmrm2d"
      },
      "source": [
        "## Step 3: Apply a Perspective Transform & Threshold"
      ]
    },
    {
      "cell_type": "code",
      "execution_count": 12,
      "metadata": {
        "id": "TwIxUh93rn8a"
      },
      "outputs": [
        {
          "name": "stdout",
          "output_type": "stream",
          "text": [
            "STEP 3: Apply perspective transform\n"
          ]
        },
        {
          "data": {
            "text/plain": [
              "-1"
            ]
          },
          "execution_count": 12,
          "metadata": {},
          "output_type": "execute_result"
        }
      ],
      "source": [
        "# apply the four point transform to obtain a top-down\n",
        "# view of the original image\n",
        "warped = four_point_transform(orig, screenCnt.reshape(4, 2) * ratio)\n",
        "# convert the warped image to grayscale, then threshold it\n",
        "# to give it that 'black and white' paper effect\n",
        "warped = cv2.cvtColor(warped, cv2.COLOR_BGR2GRAY)\n",
        "T = threshold_local(warped, 11, offset = 10, method = \"gaussian\")\n",
        "warped = (warped > T).astype(\"uint8\") * 255\n",
        "# show the original and scanned images\n",
        "print(\"STEP 3: Apply perspective transform\")\n",
        "cv2.imshow(\"Original\", imutils.resize(orig, height = 650))\n",
        "cv2.imshow(\"Scanned\", imutils.resize(warped, height = 650))\n",
        "cv2.waitKey(0)"
      ]
    }
  ],
  "metadata": {
    "colab": {
      "provenance": []
    },
    "kernelspec": {
      "display_name": "Python 3",
      "name": "python3"
    },
    "language_info": {
      "codemirror_mode": {
        "name": "ipython",
        "version": 3
      },
      "file_extension": ".py",
      "mimetype": "text/x-python",
      "name": "python",
      "nbconvert_exporter": "python",
      "pygments_lexer": "ipython3",
      "version": "3.11.4"
    }
  },
  "nbformat": 4,
  "nbformat_minor": 0
}
