{
 "cells": [
  {
   "cell_type": "code",
   "execution_count": 6,
   "metadata": {},
   "outputs": [],
   "source": [
    "# load the image and compute the ratio of the old height\n",
    "import cv2\n",
    "import imutils\n",
    "from skimage.filters import threshold_local\n",
    "from pyimagesearch.transform import four_point_transform\n",
    "import numpy as np"
   ]
  },
  {
   "cell_type": "markdown",
   "metadata": {},
   "source": [
    "## Step 1: Edge Detection"
   ]
  },
  {
   "cell_type": "code",
   "execution_count": 7,
   "metadata": {},
   "outputs": [
    {
     "data": {
      "text/plain": [
       "-1"
      ]
     },
     "execution_count": 7,
     "metadata": {},
     "output_type": "execute_result"
    }
   ],
   "source": [
    "img_path = 'img/a.jpg'\n",
    "big_img = cv2.imread(img_path)\n",
    "cv2.imshow('org img',big_img)\n",
    "cv2.waitKey(0)\n",
    "# load the image and compute the ratio of the old height\n",
    "# to the new height, clone it, and resize it\n",
    "ratio = big_img.shape[0] / 500.0\n",
    "org = big_img.copy()\n",
    "img = imutils.resize(big_img, height = 500)\n",
    "cv2.imshow('resizing',img)\n",
    "cv2.waitKey(0)\n",
    "# convert the image to grayscale, blur it, and find edges\n",
    "# in the image\n",
    "gray_img = cv2.cvtColor(img.copy(),cv2.COLOR_BGR2GRAY)\n",
    "blur_img = cv2.GaussianBlur(gray_img,(5,5),0)\n",
    "edged_img = cv2.Canny(blur_img,75,200)\n",
    "cv2.imshow('edged',edged_img)\n",
    "cv2.waitKey(0)\n"
   ]
  },
  {
   "cell_type": "markdown",
   "metadata": {},
   "source": [
    "## Step 2: Finding Contours"
   ]
  },
  {
   "cell_type": "code",
   "execution_count": 8,
   "metadata": {},
   "outputs": [],
   "source": [
    "# find the contours in the edged image, keeping only the\n",
    "# largest ones, and initialize the screen contour\n",
    "cnts,_ = cv2.findContours(edged_img.copy(),cv2.RETR_LIST,cv2.CHAIN_APPROX_SIMPLE)\n",
    "cnts = sorted(cnts,key=cv2.contourArea,reverse=True)[:5]\n",
    "for c in cnts:\n",
    "    peri = cv2.arcLength(c,True)\n",
    "    approx = cv2.approxPolyDP(c,0.02*peri,True)\n",
    "    if len(approx)==4:\n",
    "        doc = approx\n",
    "        break\n"
   ]
  },
  {
   "cell_type": "markdown",
   "metadata": {},
   "source": [
    "### 2.2: Adding circles to the corners"
   ]
  },
  {
   "cell_type": "code",
   "execution_count": 9,
   "metadata": {},
   "outputs": [
    {
     "data": {
      "text/plain": [
       "-1"
      ]
     },
     "execution_count": 9,
     "metadata": {},
     "output_type": "execute_result"
    }
   ],
   "source": [
    "p=[]\n",
    "for d in doc:\n",
    "    tuple_point = tuple(d[0])\n",
    "    cv2.circle(img,tuple_point,3,(0,0,255),4)\n",
    "    p.append(tuple_point)\n",
    "cv2.imshow('Corner points detected',img)\n",
    "cv2.waitKey(0)\n"
   ]
  },
  {
   "cell_type": "markdown",
   "metadata": {},
   "source": [
    "## Step 3: Apply a Perspective Transform & Threshold"
   ]
  },
  {
   "cell_type": "code",
   "execution_count": 5,
   "metadata": {},
   "outputs": [],
   "source": [
    "# apply the four point transform to obtain a top-down\n",
    "# view of the original image\n",
    "warped = four_point_transform(org, doc.reshape(4, 2) * ratio)\n",
    "# convert the warped image to grayscale, then threshold it\n",
    "# to give it that 'black and white' paper effect\n",
    "warped = cv2.cvtColor(warped, cv2.COLOR_BGR2GRAY)\n",
    "cv2.imshow(\"Warped\", imutils.resize(warped, height = 650))\n",
    "cv2.waitKey(0)\n",
    "\n",
    "T = threshold_local(warped, 11, offset = 10, method = \"gaussian\")\n",
    "# show the original and scanned images\n",
    "warped = (warped > T).astype(\"uint8\") * 255\n",
    "cv2.imshow(\"Scanned\", imutils.resize(warped, height = 650))\n",
    "cv2.waitKey(0)\n",
    "cv2.destroyAllWindows()"
   ]
  }
 ],
 "metadata": {
  "kernelspec": {
   "display_name": "Python 3",
   "language": "python",
   "name": "python3"
  },
  "language_info": {
   "codemirror_mode": {
    "name": "ipython",
    "version": 3
   },
   "file_extension": ".py",
   "mimetype": "text/x-python",
   "name": "python",
   "nbconvert_exporter": "python",
   "pygments_lexer": "ipython3",
   "version": "3.11.4"
  }
 },
 "nbformat": 4,
 "nbformat_minor": 2
}
